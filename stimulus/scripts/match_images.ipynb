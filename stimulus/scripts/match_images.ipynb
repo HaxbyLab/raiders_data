{
 "metadata": {
  "name": ""
 },
 "nbformat": 3,
 "nbformat_minor": 0,
 "worksheets": [
  {
   "cells": [
    {
     "cell_type": "code",
     "collapsed": false,
     "input": [
      "from os.path import join as pathjoin, basename\n",
      "import sys\n",
      "from scipy.misc import imread\n",
      "from glob import glob\n",
      "import pylab as pl\n",
      "import numpy as np\n",
      "from mvpa2.base import verbose\n",
      "verbose.level = 2"
     ],
     "language": "python",
     "metadata": {},
     "outputs": [],
     "prompt_number": 1
    },
    {
     "cell_type": "code",
     "collapsed": false,
     "input": [
      "#\n",
      "#targets_dir = '/home/yoh/doc/papers.withothers/raiders_data/data/stimulus/task002/generate/INDIANA_JONES_RAIDERS_LOST_ARK-240x135_10ips'\n",
      "#matches_dir = '/home/yoh/doc/papers.withothers/raiders_data/data/stimulus/task002/orig/INDIANA_JONES_RAIDERS_LOST_ARK_part_2-240x135_10ips'\n",
      "\n",
      "targets_dir = sys.argv[1]\n",
      "matches_dir = sys.argv[2]\n",
      "verbose.level = 1\n",
      "\n",
      "FPS = 10 # so we compute timings\n",
      "\n",
      "target_files = sorted(glob(pathjoin(targets_dir, '*.jpeg')))\n",
      "match_files = sorted(glob(pathjoin(matches_dir, '*.jpeg')))\n",
      "def get_idx(fname):\n",
      "    return int(basename(fname).replace('.jpeg',''))\n",
      "assert(get_idx('/123/0012.jpeg') == 12)\n",
      "assert(get_idx('/123/0000.jpeg') == 0)\n",
      "\n",
      "target_times = np.array(map(get_idx, target_files)).astype(float)/FPS\n",
      "match_times = np.array(map(get_idx, match_files)).astype(float)/FPS\n",
      "\n",
      "verbose(1, \"There are %d target files for %d files to match\" % (len(target_files), len(match_files)))"
     ],
     "language": "python",
     "metadata": {},
     "outputs": [
      {
       "output_type": "stream",
       "stream": "stdout",
       "text": [
        " There are 1000 target files for 100 files to match\n"
       ]
      }
     ],
     "prompt_number": 81
    },
    {
     "cell_type": "code",
     "collapsed": false,
     "input": [
      "def imread_(f):\n",
      "    verbose(3, f)\n",
      "    return imread(f).mean(axis=2)\n",
      "verbose(1, \"Loading %d targets\" % len(target_files))\n",
      "targets = [imread_(f) for f in target_files]"
     ],
     "language": "python",
     "metadata": {},
     "outputs": [
      {
       "output_type": "stream",
       "stream": "stdout",
       "text": [
        " Loading 1000 targets\n"
       ]
      }
     ],
     "prompt_number": 82
    },
    {
     "cell_type": "code",
     "collapsed": false,
     "input": [
      "def get_standardized(imgs):\n",
      "    arr = np.array([a.flatten() for a in imgs], dtype=np.float32)\n",
      "    arr -= arr.mean(axis=1)[:, None]\n",
      "    arr /= arr.std(axis=1)[:, None]\n",
      "    return arr\n",
      "\n",
      "def imgs_corr(targets, matches):\n",
      "    targets_arr = get_standardized(targets)\n",
      "    matches_arr = get_standardized(matches)\n",
      "    # we need to standardize each one of them\n",
      "    out = np.dot(targets_arr, matches_arr.T)/targets_arr.shape[1]\n",
      "    out[~np.isfinite(out)] = 0\n",
      "    return out\n",
      "\n",
      "def silly_imgs_corr(targets, matches):\n",
      "    # for some basic testing\n",
      "    manual_corrcoef = np.corrcoef(np.asanyarray([t.flatten() for t in targets]),\n",
      "                                  np.asanyarray([t.flatten() for t in matches]))\n",
      "    #print len(targets), len(matches), manual_corrcoef.shape\n",
      "    out = manual_corrcoef[:len(targets), len(targets):]\n",
      "    out[~np.isfinite(out)] = 0\n",
      "    return out\n",
      "\n",
      "class Corr_to_targets(object):\n",
      "    def __init__(self, targets):\n",
      "        self.targets_arr = get_standardized(targets)\n",
      "    def __call__(self, match):\n",
      "        match_arr = get_standardized([match])\n",
      "        out = np.dot(self.targets_arr, match_arr.T)/self.targets_arr.shape[1]\n",
      "        #import pdb; pdb.set_trace()\n",
      "        out[~np.isfinite(out)] = 0\n",
      "        assert(out.shape == (len(self.targets_arr), 1))\n",
      "        return out[:, 0]\n",
      "\n",
      "verbose(2, \"Running some silly tests\")\n",
      "test_matches = [imread_(f) for f in target_files[:100:10]]\n",
      "test_pair = targets[50:100:10], test_matches\n",
      "#pl.figure() ; pl.matshow(silly_imgs_corr(*test_pair)) ; pl.show()\n",
      "#pl.figure() ; pl.matshow(imgs_corr(*test_pair)) ;\n",
      "from numpy.testing import assert_array_almost_equal\n",
      "diff = silly_imgs_corr(*test_pair) - imgs_corr(*test_pair)\n",
      "assert(np.max(np.abs(diff)) < 0.01)\n",
      "# pl.matshow(silly_imgs_corr(*test_pair) - imgs_corr(*test_pair)); pl.colorbar();\n",
      "\n",
      "correr = Corr_to_targets(test_pair[0])\n",
      "correr_res = np.asanyarray([correr(m) for m in test_pair[1]]).T\n",
      "assert(np.max(np.abs(imgs_corr(*test_pair) - correr_res)) < 0.01)"
     ],
     "language": "python",
     "metadata": {},
     "outputs": [
      {
       "output_type": "stream",
       "stream": "stdout",
       "text": [
        " Running some silly tests\n"
       ]
      }
     ],
     "prompt_number": 83
    },
    {
     "cell_type": "code",
     "collapsed": false,
     "input": [
      "correr = Corr_to_targets(targets)\n",
      "corrs_to_matches = np.asanyarray([correr(imread_(f)) for f in match_files]).T"
     ],
     "language": "python",
     "metadata": {},
     "outputs": [],
     "prompt_number": 84
    },
    {
     "cell_type": "code",
     "collapsed": false,
     "input": [
      "#from mvpa2.base.hdf5 import h5load\n",
      "#corrs_to_matches = h5load('corrs_to_matches_test.h5')"
     ],
     "language": "python",
     "metadata": {},
     "outputs": [],
     "prompt_number": 85
    },
    {
     "cell_type": "code",
     "collapsed": false,
     "input": [
      "# figure out maximal correlations for each \"match\" to targets\n",
      "max_matches = np.argmax(corrs_to_matches, axis=0)\n",
      "assert(len(match_times) == len(max_matches))\n",
      "matched_times = target_times[max_matches]"
     ],
     "language": "python",
     "metadata": {},
     "outputs": [],
     "prompt_number": 86
    },
    {
     "cell_type": "code",
     "collapsed": false,
     "input": [
      "# we need to fit a line, remove all the outliers, compute offset/slope to get reliable coeff for when things started and where ended\n",
      "\n",
      "import numpy as np\n",
      "non_outliers = np.ones(len(match_times), dtype=bool)\n",
      "\n",
      "fits = []\n",
      "# do few rounds shrinking around the target line\n",
      "for thr in [100, 10, 1, 0.5, 0.3, 0.1]:\n",
      "\n",
      "    scale, offset = np.polyfit(match_times[non_outliers], matched_times[non_outliers], deg=1)\n",
      "    fit = offset + scale*match_times\n",
      "    fits.append((fit, scale, offset))\n",
      "    non_outliers = np.abs(fit - matched_times) <= thr\n",
      "    verbose(2, \"Threshold: %f scale=%.5g offset=%.2g\" % (thr, scale, offset))\n",
      "    if np.abs(scale - 1.0) < 0.000001:\n",
      "        # must be enough!\n",
      "        break\n",
      "\n",
      "assert(np.abs(scale - 1.0) < 0.000001) # so we have the same FPS\n",
      "#verbose(2, \"Final: start=%.2f stop=%.2f\" % (offset, offset + len(match_times)*FPS))\n",
      "print (\"--start-at duration:%.2g --stop-at duration:%.2f\" % (offset, offset + len(match_times)*FPS)).rstrip(\"0.\")"
     ],
     "language": "python",
     "metadata": {},
     "outputs": [
      {
       "output_type": "stream",
       "stream": "stdout",
       "text": [
        "  Threshold: 100.000000 scale=1.0836 offset=8.2e+02\n"
       ]
      },
      {
       "output_type": "stream",
       "stream": "stdout",
       "text": [
        "  Threshold: 10.000000 scale=0.95362 offset=8.3e+02\n"
       ]
      },
      {
       "output_type": "stream",
       "stream": "stdout",
       "text": [
        "  Threshold: 1.000000 scale=1 offset=8.3e+02\n"
       ]
      },
      {
       "output_type": "stream",
       "stream": "stdout",
       "text": [
        "--start-at duration:8.3e+02 --stop-at duration:1829\n"
       ]
      }
     ],
     "prompt_number": 87
    },
    {
     "cell_type": "code",
     "collapsed": false,
     "input": [
      "if True:\n",
      "    pl.figure(figsize=(16, 4))\n",
      "    pl.plot(match_times, matched_times)\n",
      "    for i, (fit, scale, offset) in enumerate(fits):\n",
      "        pl.plot(match_times, fit, label=\"fit #%i: %.3g+%3g*i\" % (i, offset, scale))\n",
      "    pl.legend()"
     ],
     "language": "python",
     "metadata": {},
     "outputs": [
      {
       "metadata": {},
       "output_type": "display_data",
       "png": "[encoded data removed]",
       "text": [
        "<matplotlib.figure.Figure at 0x2f4dc90>"
       ]
      }
     ],
     "prompt_number": 88
    },
    {
     "cell_type": "code",
     "collapsed": false,
     "input": [],
     "language": "python",
     "metadata": {},
     "outputs": []
    }
   ],
   "metadata": {}
  }
 ]
}